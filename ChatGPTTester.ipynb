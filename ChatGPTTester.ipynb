{
  "nbformat": 4,
  "nbformat_minor": 0,
  "metadata": {
    "colab": {
      "provenance": []
    },
    "kernelspec": {
      "name": "python3",
      "display_name": "Python 3"
    },
    "language_info": {
      "name": "python"
    }
  },
  "cells": [
    {
      "cell_type": "code",
      "source": [
        "# imports \n",
        "!pip install multi-rake\n",
        "!pip install scikit-learn"
      ],
      "metadata": {
        "colab": {
          "base_uri": "https://localhost:8080/"
        },
        "id": "2bP_z4KCQrFf",
        "outputId": "c423d45c-5dbc-4207-d6fb-4535983b4a09"
      },
      "execution_count": null,
      "outputs": [
        {
          "output_type": "stream",
          "name": "stdout",
          "text": [
            "Looking in indexes: https://pypi.org/simple, https://us-python.pkg.dev/colab-wheels/public/simple/\n",
            "Collecting multi-rake\n",
            "  Downloading multi_rake-0.0.2-py3-none-any.whl (31 kB)\n",
            "Requirement already satisfied: numpy>=1.14.4 in /usr/local/lib/python3.8/dist-packages (from multi-rake) (1.21.6)\n",
            "Requirement already satisfied: pyrsistent>=0.14.2 in /usr/local/lib/python3.8/dist-packages (from multi-rake) (0.19.2)\n",
            "Collecting pycld2>=0.41\n",
            "  Downloading pycld2-0.41.tar.gz (41.4 MB)\n",
            "\u001b[K     |████████████████████████████████| 41.4 MB 1.2 MB/s \n",
            "\u001b[?25hRequirement already satisfied: regex>=2018.6.6 in /usr/local/lib/python3.8/dist-packages (from multi-rake) (2022.6.2)\n",
            "Building wheels for collected packages: pycld2\n",
            "  Building wheel for pycld2 (setup.py) ... \u001b[?25l\u001b[?25hdone\n",
            "  Created wheel for pycld2: filename=pycld2-0.41-cp38-cp38-linux_x86_64.whl size=9833421 sha256=e1d1ba0d68ced842445785b88eb72c8371510813117bfcd7fbe833bfd51300e0\n",
            "  Stored in directory: /root/.cache/pip/wheels/2b/3a/82/d990040cbe6c3527732e931e2925785e83fe9aaa5a11c313ca\n",
            "Successfully built pycld2\n",
            "Installing collected packages: pycld2, multi-rake\n",
            "Successfully installed multi-rake-0.0.2 pycld2-0.41\n",
            "Looking in indexes: https://pypi.org/simple, https://us-python.pkg.dev/colab-wheels/public/simple/\n",
            "Requirement already satisfied: scikit-learn in /usr/local/lib/python3.8/dist-packages (1.0.2)\n",
            "Requirement already satisfied: numpy>=1.14.6 in /usr/local/lib/python3.8/dist-packages (from scikit-learn) (1.21.6)\n",
            "Requirement already satisfied: threadpoolctl>=2.0.0 in /usr/local/lib/python3.8/dist-packages (from scikit-learn) (3.1.0)\n",
            "Requirement already satisfied: joblib>=0.11 in /usr/local/lib/python3.8/dist-packages (from scikit-learn) (1.2.0)\n",
            "Requirement already satisfied: scipy>=1.1.0 in /usr/local/lib/python3.8/dist-packages (from scikit-learn) (1.7.3)\n"
          ]
        }
      ]
    },
    {
      "cell_type": "code",
      "source": [
        "text_in = \\\n",
        "\"\"\"\n",
        "Plagiarism is the act of using someone else's work without giving them proper credit. This can apply to content created by AI as well, although the concept of plagiarism in the context of AI can be a bit more complex.\n",
        "\n",
        "In the most basic sense, if an AI creates a piece of content and someone else uses it without giving proper credit to the AI or its creators, that could be considered plagiarism. However, it's important to note that AI is often used as a tool by human creators, so determining who should be given credit for the work can be tricky.\n",
        "\n",
        "For example, if a human writes an article and uses an AI to help them generate certain parts of the text, it might not be clear who should be given credit for those parts of the text. In cases like this, it's important for the human creator to clearly state the role that the AI played in the creation of the content, and to give the AI and its creators appropriate credit.\n",
        "\n",
        "Overall, the key to avoiding plagiarism when using AI to create content is to be transparent about the role that the AI played in the creation process and to give proper credit to all parties involved.\n",
        "\"\"\""
      ],
      "metadata": {
        "id": "Q9DPkghvROtK"
      },
      "execution_count": null,
      "outputs": []
    },
    {
      "cell_type": "code",
      "execution_count": null,
      "metadata": {
        "colab": {
          "base_uri": "https://localhost:8080/"
        },
        "id": "_Gpnv-2XQLCc",
        "outputId": "b937e1e9-2208-4727-e171-ff92e8a6b840"
      },
      "outputs": [
        {
          "output_type": "stream",
          "name": "stdout",
          "text": [
            "go to https://chat.openai.com/chat  and search for the following:\n",
            "Search 1: Write a text using these keywords: giving proper credit, give proper credit, proper credit, basic sense, ai creates\n",
            "Search 2: Write a text using these keywords: giving proper credit, give proper credit, proper credit, basic sense, ai creates, giving proper credit, give proper credit\n"
          ]
        }
      ],
      "source": [
        "from multi_rake import Rake\n",
        "\n",
        "rake = Rake()\n",
        "\n",
        "raw_keywords = rake.apply(text_in)\n",
        "\n",
        "keywords = []\n",
        "for word in raw_keywords[:5]:\n",
        "    keywords.append(word[0])\n",
        "\n",
        "print(\"go to \" + \"https://chat.openai.com/chat \" + \" and search for the following:\" )\n",
        "\n",
        "prompt = ', '.join(keywords)\n",
        "print(\"Search 1: Write a text using these keywords: \" + prompt)\n",
        "\n",
        "for word in raw_keywords[:2]:\n",
        "    keywords.append(word[0])\n",
        "\n",
        "prompt = ', '.join(keywords)\n",
        "print(\"Search 2: Write a text using these keywords: \" + prompt)"
      ]
    },
    {
      "cell_type": "code",
      "source": [
        "result1 = \"\"\" \n",
        "In the most basic sense, giving proper credit is crucial when it comes to content created by AI. If an AI creates a piece of content, it's important for the human creators to give proper credit to the AI and its creators. This means being transparent about the role that the AI played in the creation process, and making sure that all parties involved are properly credited for their contributions. Without giving proper credit, it's easy to fall into the trap of plagiarism, which can have serious consequences. By taking the time to give proper credit, human creators can avoid these issues and ensure that everyone involved in the creation process is recognized for their contributions.\n",
        "\"\"\"\n",
        "result2 = \"\"\"\n",
        "Giving proper credit is crucial when it comes to content created by AI. In the most basic sense, if an AI creates a piece of content, it's important for the human creators to give proper credit to the AI and its creators. This means being transparent about the role that the AI played in the creation process, and making sure that all parties involved are properly credited for their contributions. Without giving proper credit, it's easy to fall into the trap of plagiarism, which can have serious consequences. By taking the time to give proper credit, human creators can avoid these issues and ensure that everyone involved in the creation process is recognized for their contributions. It's important to note that giving proper credit goes beyond simply stating that an AI was involved in the creation process - it also involves making sure that the AI and its creators are properly acknowledged and credited for their contributions.\n",
        "\n",
        "\"\"\""
      ],
      "metadata": {
        "id": "u0FBu_99STvA"
      },
      "execution_count": null,
      "outputs": []
    },
    {
      "cell_type": "code",
      "source": [
        "from sklearn.feature_extraction.text import TfidfVectorizer\n",
        "from sklearn.metrics.pairwise import cosine_similarity\n",
        "\n",
        "compare1=[text_in,result1]\n",
        "tfidf1= TfidfVectorizer()\n",
        "tfidf_vector1 = tfidf1.fit_transform(compare1)\n",
        "cosine_sim1=cosine_similarity(tfidf_vector1, tfidf_vector1)[0][1]\n",
        "\n",
        "if result2 != \"\":\n",
        "  compare2=[text_in,result2]\n",
        "  tfidf2= TfidfVectorizer()\n",
        "  tfidf_vector2 = tfidf2.fit_transform(compare1)\n",
        "  cosine_sim2=cosine_similarity(tfidf_vector2, tfidf_vector2)[0][1]\n",
        "  if cosine_sim2 > cosine_sim1:\n",
        "    cosine_sim1 = cosine_sim2\n",
        "\n",
        "\n",
        "\n",
        "\n",
        "print(\"Similarity score: \" + str(round(cosine_sim1,2)))\n",
        "\n",
        "if cosine_sim1 > 0.6:\n",
        "    print(\"Result is Sus - probably AI plagiarism\")\n",
        "else:\n",
        "    print(\"Result is OK... - probably not AI plagiarism\")"
      ],
      "metadata": {
        "colab": {
          "base_uri": "https://localhost:8080/"
        },
        "id": "MbU3UrNCQqSR",
        "outputId": "b977bd16-8e4a-499c-ea9d-c3fe43acd556"
      },
      "execution_count": null,
      "outputs": [
        {
          "output_type": "stream",
          "name": "stdout",
          "text": [
            "Similarity score: 0.74\n",
            "Result is Sus - probably AI plagiarism\n"
          ]
        }
      ]
    },
    {
      "cell_type": "code",
      "source": [],
      "metadata": {
        "id": "0Mv5yazhWSi4"
      },
      "execution_count": null,
      "outputs": []
    }
  ]
}